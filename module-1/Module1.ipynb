{
 "cells": [
  {
   "cell_type": "code",
   "execution_count": null,
   "metadata": {},
   "outputs": [],
   "source": [
    "# Who am I\n",
    "\n",
    "* Where are you from?\n",
    "* What do you do?\n",
    "* Do you have previous experience with technology/data?\n",
    "\n",
    "# Why am I here\n",
    "\n",
    "* What has brought you to Ironhack?\n",
    "* What knowledge/skills do you expect to learn in this bootcamp?\n",
    "\n",
    "# What will I do after the bootcamp?\n",
    "\n",
    "* Which industry will you seek employment in?\n",
    "* What will your future role look like?\n",
    "* What is your career goal?\n",
    "\n",
    "ok "
   ]
  }
 ],
 "metadata": {
  "kernelspec": {
   "display_name": "Python 3",
   "language": "python",
   "name": "python3"
  },
  "language_info": {
   "codemirror_mode": {
    "name": "ipython",
    "version": 3
   },
   "file_extension": ".py",
   "mimetype": "text/x-python",
   "name": "python",
   "nbconvert_exporter": "python",
   "pygments_lexer": "ipython3",
   "version": "3.7.4"
  }
 },
 "nbformat": 4,
 "nbformat_minor": 2
}
