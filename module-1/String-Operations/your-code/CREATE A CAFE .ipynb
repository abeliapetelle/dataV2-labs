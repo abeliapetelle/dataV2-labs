{
 "cells": [
  {
   "cell_type": "code",
   "execution_count": null,
   "metadata": {},
   "outputs": [],
   "source": [
    "#Create a list that describe the cafe "
   ]
  },
  {
   "cell_type": "code",
   "execution_count": 21,
   "metadata": {},
   "outputs": [],
   "source": [
    "class cafe:\n",
    "    \n",
    "    def __init__(self, name, speciality, maxplace, note):\n",
    "        self.name = name\n",
    "        self.speciality = speciality\n",
    "        self.maxplace = int(maxplace)\n",
    "        self.note = note\n",
    "        self.place = 0\n",
    "        self.menu = list()\n",
    "        self.choice = list()\n",
    "\n",
    "    def recommandation(self):\n",
    "        if self.note >= 4:\n",
    "            return f'Waaa, {self.name} is soo well ranked!. You should definitly go!.'\n",
    "        if self.note < 4 and self.note >= 3:\n",
    "            return f'{self.name} is ok but you should check the comments on it.'\n",
    "        if self.note < 3:\n",
    "            return f'{self.name} is not good at all. Find an other restaurant!'\n",
    "        \n",
    "    def new_client(self):\n",
    "        print(\"Hello, Welcome to \"+ self.name)\n",
    "        self.place +=1\n",
    "        print(self.place) \n",
    "        if self.place>self.maxplace:\n",
    "            return f'Sorry, {self.name} is full... Do you want to make a reservation ?.'\n",
    "    \n",
    "    def order(self,choice):\n",
    "        if self.choice in self.menu:\n",
    "            self.choice.append(choice)\n",
    "        else :\n",
    "            f'Sorry, we dont have this in this cafe.'\n",
    "        print(choice)\n",
    "    \n",
    "    def client_leave(self):\n",
    "        print(\"Good Bye, You will always be welcome at \"+ self.name)\n",
    "        self.place += -1\n",
    "        print(self.place)         \n"
   ]
  },
  {
   "cell_type": "code",
   "execution_count": 22,
   "metadata": {},
   "outputs": [],
   "source": [
    "angelina = cafe('Angelina','french',10,2.5)"
   ]
  },
  {
   "cell_type": "code",
   "execution_count": 23,
   "metadata": {},
   "outputs": [
    {
     "data": {
      "text/plain": [
       "'Angelina is not good at all. Find an other restaurant!'"
      ]
     },
     "execution_count": 23,
     "metadata": {},
     "output_type": "execute_result"
    }
   ],
   "source": [
    "angelina.recommandation()"
   ]
  },
  {
   "cell_type": "code",
   "execution_count": 24,
   "metadata": {},
   "outputs": [
    {
     "name": "stdout",
     "output_type": "stream",
     "text": [
      "Hello, Welcome to Angelina\n",
      "1\n"
     ]
    }
   ],
   "source": [
    "angelina.new_client()"
   ]
  },
  {
   "cell_type": "code",
   "execution_count": 25,
   "metadata": {},
   "outputs": [
    {
     "name": "stdout",
     "output_type": "stream",
     "text": [
      "Hello, Welcome to Angelina\n",
      "2\n"
     ]
    }
   ],
   "source": [
    "angelina.new_client()"
   ]
  },
  {
   "cell_type": "code",
   "execution_count": 26,
   "metadata": {},
   "outputs": [
    {
     "name": "stdout",
     "output_type": "stream",
     "text": [
      "Good Bye, You will always be welcome at Angelina\n",
      "1\n"
     ]
    }
   ],
   "source": [
    "angelina.client_leave()"
   ]
  },
  {
   "cell_type": "code",
   "execution_count": 27,
   "metadata": {},
   "outputs": [
    {
     "name": "stdout",
     "output_type": "stream",
     "text": [
      "Enter your choice of drinkchocolate\n",
      "chocolate\n"
     ]
    }
   ],
   "source": [
    "angelia.menu = [chocolate, cafe, juice]\n",
    "angelina.order(input('Enter your choice of drink'))"
   ]
  },
  {
   "cell_type": "code",
   "execution_count": null,
   "metadata": {},
   "outputs": [],
   "source": []
  },
  {
   "cell_type": "code",
   "execution_count": null,
   "metadata": {},
   "outputs": [],
   "source": [
    "Instruction : \n",
    "Create the famous HANGMAN game ! \n",
    "\n",
    "Description of your game :\n",
    "The computer choose a word in his dictionary and draw blank line for each letter in the word.\n",
    "1. The player have to guess the word letter by letter:\n",
    "    1. The player first guess a first letter \n",
    "        1. If the letter is in the word, it fills it into the blank where it occurs.\n",
    "        2. If the letter is not in the word, one of the body part of the player appears in the hangman \n",
    "2. The player win when he guesses the right word and loose if all his body part  of the hangman have shown up \n",
    "\n",
    "Rules:\n",
    "The player have to enter ONLY LETTERS to guess the word\n",
    "The rest is done by the computer !\n"
   ]
  }
 ],
 "metadata": {
  "kernelspec": {
   "display_name": "Python 3",
   "language": "python",
   "name": "python3"
  },
  "language_info": {
   "codemirror_mode": {
    "name": "ipython",
    "version": 3
   },
   "file_extension": ".py",
   "mimetype": "text/x-python",
   "name": "python",
   "nbconvert_exporter": "python",
   "pygments_lexer": "ipython3",
   "version": "3.7.4"
  }
 },
 "nbformat": 4,
 "nbformat_minor": 2
}
