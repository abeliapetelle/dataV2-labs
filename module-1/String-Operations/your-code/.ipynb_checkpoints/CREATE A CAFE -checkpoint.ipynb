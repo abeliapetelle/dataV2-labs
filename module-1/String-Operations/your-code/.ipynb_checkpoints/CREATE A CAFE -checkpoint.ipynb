{
 "cells": [
  {
   "cell_type": "code",
   "execution_count": null,
   "metadata": {},
   "outputs": [],
   "source": [
    "#Create a list that describe the cafe (employee, bonjour monsieur/madame, "
   ]
  },
  {
   "cell_type": "code",
   "execution_count": null,
   "metadata": {},
   "outputs": [],
   "source": [
    "class cafe:\n",
    "    \n",
    "    def __init__(self, name, speciality, maxplace,note):\n",
    "        self.name = name\n",
    "        self.speciality = speciality\n",
    "        self.maxplace = int(maxplace)\n",
    "        self.note = note\n",
    "        self.place = 0\n",
    "        self.menu = list()\n",
    "        self.choice = list()\n",
    "\n",
    "    def recommandation(self):\n",
    "        if self.note >= 4:\n",
    "            return f'Waaa, {self.name} is soo well ranked!. You should definitly go!.'\n",
    "        if self.note < 4 and self.note >= 3:\n",
    "            return f'{self.name} is ok but you should check the comments on it.'\n",
    "        if self.note < 3:\n",
    "            return f'{self.name} is not good at all. Find an other restaurant!'\n",
    "        \n",
    "    def new_client(self):\n",
    "        print(\"Hello, Welcome to \"+ self.name)\n",
    "        self.place +=1\n",
    "        print(self.place) \n",
    "        if self.place>self.maxplace:\n",
    "            return f'Sorry, {self.name} is full... Do you want to make a reservation ?.'\n",
    "    \n",
    "    def order(self,choice):\n",
    "        if self.choice in self.menu:\n",
    "            self.choice.append(choice)\n",
    "        else :\n",
    "            f'Sorry, we dont have this in this cafe.'\n",
    "        print(choice)\n",
    "    \n",
    "    def client_leave(self):\n",
    "        print(\"Good Bye, You will always be welcome at \"+ self.name)\n",
    "        self.place += -1\n",
    "        print(self.place)         \n"
   ]
  },
  {
   "cell_type": "code",
   "execution_count": null,
   "metadata": {},
   "outputs": [],
   "source": [
    "angelina = cafe('Angelina','french',10,2.5)"
   ]
  },
  {
   "cell_type": "code",
   "execution_count": null,
   "metadata": {},
   "outputs": [],
   "source": [
    "angelina.recommandation()"
   ]
  },
  {
   "cell_type": "code",
   "execution_count": null,
   "metadata": {},
   "outputs": [],
   "source": [
    "angelina.new_client()"
   ]
  },
  {
   "cell_type": "code",
   "execution_count": null,
   "metadata": {},
   "outputs": [],
   "source": [
    "angelina.new_client()"
   ]
  },
  {
   "cell_type": "code",
   "execution_count": null,
   "metadata": {},
   "outputs": [],
   "source": []
  },
  {
   "cell_type": "code",
   "execution_count": null,
   "metadata": {},
   "outputs": [],
   "source": [
    "angelina.client_leave()"
   ]
  },
  {
   "cell_type": "code",
   "execution_count": null,
   "metadata": {},
   "outputs": [],
   "source": [
    "angelina.order(input('Enter your choice of drink'))"
   ]
  },
  {
   "cell_type": "code",
   "execution_count": null,
   "metadata": {},
   "outputs": [],
   "source": []
  },
  {
   "cell_type": "code",
   "execution_count": null,
   "metadata": {},
   "outputs": [],
   "source": []
  }
 ],
 "metadata": {
  "kernelspec": {
   "display_name": "Python 3",
   "language": "python",
   "name": "python3"
  }
 },
 "nbformat": 4,
 "nbformat_minor": 2
}
